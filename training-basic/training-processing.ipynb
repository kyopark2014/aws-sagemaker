{
 "cells": [
  {
   "cell_type": "code",
   "execution_count": 1,
   "id": "1dd970a2",
   "metadata": {},
   "outputs": [],
   "source": [
    "import boto3\n",
    "import sagemaker"
   ]
  },
  {
   "cell_type": "code",
   "execution_count": 2,
   "id": "e38ac46e",
   "metadata": {},
   "outputs": [],
   "source": [
    "sagemaker_session = sagemaker.session.Session()\n",
    "role = sagemaker.get_execution_role()"
   ]
  },
  {
   "cell_type": "code",
   "execution_count": 3,
   "id": "6f306c62",
   "metadata": {},
   "outputs": [],
   "source": [
    "bucket = sagemaker_session.default_bucket()\n",
    "code_location = f's3://{bucket}/xgboost/code'\n",
    "output_path = f's3://{bucket}/xgboost/output'"
   ]
  },
  {
   "cell_type": "markdown",
   "id": "31bede5d",
   "metadata": {},
   "source": [
    "### Define hyperparameter"
   ]
  },
  {
   "cell_type": "code",
   "execution_count": 4,
   "id": "8ca6d9be",
   "metadata": {},
   "outputs": [],
   "source": [
    "hyperparameters = {\n",
    "       \"scale_pos_weight\" : \"29\",    \n",
    "        \"max_depth\": \"3\",\n",
    "        \"eta\": \"0.2\",\n",
    "        \"objective\": \"binary:logistic\",\n",
    "        \"num_round\": \"100\",\n",
    "}"
   ]
  },
  {
   "cell_type": "code",
   "execution_count": 5,
   "id": "69f793e6",
   "metadata": {},
   "outputs": [],
   "source": [
    "instance_count = 1\n",
    "# instance_type = \"ml.m5.large\"\n",
    "instance_type = \"local\"\n",
    "max_run = 1*60*60\n",
    "\n",
    "use_spot_instances = False\n",
    "if use_spot_instances:\n",
    "    max_wait = 1*60*60\n",
    "else:\n",
    "    max_wait = None"
   ]
  },
  {
   "cell_type": "code",
   "execution_count": 6,
   "id": "ddd7c6a8",
   "metadata": {},
   "outputs": [],
   "source": [
    "if instance_type in ['local', 'local_gpu']:\n",
    "    from sagemaker.local import LocalSession\n",
    "    sagemaker_session = LocalSession()\n",
    "    sagemaker_session.config = {'local': {'local_code': True}}\n",
    "else:\n",
    "    sagemaker_session = sagemaker.session.Session()"
   ]
  },
  {
   "cell_type": "markdown",
   "id": "ed4ce066",
   "metadata": {},
   "source": [
    "### Define training cluster"
   ]
  },
  {
   "cell_type": "code",
   "execution_count": 7,
   "id": "13d47c00",
   "metadata": {},
   "outputs": [],
   "source": [
    "from sagemaker.xgboost.estimator import XGBoost\n",
    "\n",
    "estimator = XGBoost(\n",
    "    entry_point=\"xgboost_starter_script.py\",\n",
    "    source_dir='src',\n",
    "    output_path=output_path,\n",
    "    code_location=code_location,\n",
    "    hyperparameters=hyperparameters,\n",
    "    role=role,\n",
    "    sagemaker_session=sagemaker_session,\n",
    "    instance_count=instance_count,\n",
    "    instance_type=instance_type,\n",
    "    framework_version=\"1.3-1\",\n",
    "    max_run=max_run,\n",
    "    use_spot_instances=use_spot_instances,  # spot instance 활용\n",
    "    max_wait=max_wait,\n",
    ")"
   ]
  },
  {
   "cell_type": "markdown",
   "id": "2e58cb8f",
   "metadata": {},
   "source": [
    "### Prepare training dataset"
   ]
  },
  {
   "cell_type": "code",
   "execution_count": 8,
   "id": "5a306014",
   "metadata": {},
   "outputs": [],
   "source": [
    "data_path=f's3://{bucket}/xgboost/dataset'\n",
    "!aws s3 sync ./data/dataset/ $data_path"
   ]
  },
  {
   "cell_type": "code",
   "execution_count": 9,
   "id": "d795797f",
   "metadata": {},
   "outputs": [
    {
     "data": {
      "text/plain": [
       "'file:///home/ec2-user/SageMaker/sg-workshop/data/dataset/'"
      ]
     },
     "execution_count": 9,
     "metadata": {},
     "output_type": "execute_result"
    }
   ],
   "source": [
    "if instance_type in ['local', 'local_gpu']:\n",
    "    from pathlib import Path\n",
    "    file_path = f'file://{Path.cwd()}'\n",
    "    inputs = file_path.split('lab_1_training')[0] + '/data/dataset/'\n",
    "    \n",
    "else:\n",
    "    inputs = data_path\n",
    "inputs"
   ]
  },
  {
   "cell_type": "markdown",
   "id": "2a7cf0e2",
   "metadata": {},
   "source": [
    "### Define Experiment"
   ]
  },
  {
   "cell_type": "code",
   "execution_count": 10,
   "id": "69238d2e",
   "metadata": {},
   "outputs": [
    {
     "name": "stdout",
     "output_type": "stream",
     "text": [
      "Looking in indexes: https://pypi.org/simple, https://pip.repos.neuron.amazonaws.com\n",
      "Requirement already satisfied: sagemaker-experiments in /home/ec2-user/anaconda3/envs/pytorch_p38/lib/python3.8/site-packages (0.1.35)\n",
      "Requirement already satisfied: boto3>=1.16.27 in /home/ec2-user/anaconda3/envs/pytorch_p38/lib/python3.8/site-packages (from sagemaker-experiments) (1.24.62)\n",
      "Requirement already satisfied: botocore<1.28.0,>=1.27.62 in /home/ec2-user/anaconda3/envs/pytorch_p38/lib/python3.8/site-packages (from boto3>=1.16.27->sagemaker-experiments) (1.27.75)\n",
      "Requirement already satisfied: jmespath<2.0.0,>=0.7.1 in /home/ec2-user/anaconda3/envs/pytorch_p38/lib/python3.8/site-packages (from boto3>=1.16.27->sagemaker-experiments) (0.10.0)\n",
      "Requirement already satisfied: s3transfer<0.7.0,>=0.6.0 in /home/ec2-user/anaconda3/envs/pytorch_p38/lib/python3.8/site-packages (from boto3>=1.16.27->sagemaker-experiments) (0.6.0)\n",
      "Requirement already satisfied: urllib3<1.27,>=1.25.4 in /home/ec2-user/anaconda3/envs/pytorch_p38/lib/python3.8/site-packages (from botocore<1.28.0,>=1.27.62->boto3>=1.16.27->sagemaker-experiments) (1.26.8)\n",
      "Requirement already satisfied: python-dateutil<3.0.0,>=2.1 in /home/ec2-user/anaconda3/envs/pytorch_p38/lib/python3.8/site-packages (from botocore<1.28.0,>=1.27.62->boto3>=1.16.27->sagemaker-experiments) (2.8.2)\n",
      "Requirement already satisfied: six>=1.5 in /home/ec2-user/anaconda3/envs/pytorch_p38/lib/python3.8/site-packages (from python-dateutil<3.0.0,>=2.1->botocore<1.28.0,>=1.27.62->boto3>=1.16.27->sagemaker-experiments) (1.16.0)\n",
      "\u001b[33mWARNING: You are using pip version 22.0.4; however, version 22.2.2 is available.\n",
      "You should consider upgrading via the '/home/ec2-user/anaconda3/envs/pytorch_p38/bin/python -m pip install --upgrade pip' command.\u001b[0m\u001b[33m\n",
      "\u001b[0m"
     ]
    }
   ],
   "source": [
    "!pip install -U sagemaker-experiments"
   ]
  },
  {
   "cell_type": "code",
   "execution_count": 11,
   "id": "aa1d8815",
   "metadata": {},
   "outputs": [],
   "source": [
    "from smexperiments.experiment import Experiment\n",
    "from smexperiments.trial import Trial\n",
    "from time import strftime"
   ]
  },
  {
   "cell_type": "code",
   "execution_count": 12,
   "id": "1ed5b727",
   "metadata": {},
   "outputs": [],
   "source": [
    "def create_experiment(experiment_name):\n",
    "    try:\n",
    "        sm_experiment = Experiment.load(experiment_name)\n",
    "    except:\n",
    "        sm_experiment = Experiment.create(experiment_name=experiment_name)\n",
    "        \n",
    "def create_trial(experiment_name):\n",
    "    create_date = strftime(\"%m%d-%H%M%s\")       \n",
    "    sm_trial = Trial.create(trial_name=f'{experiment_name}-{create_date}',\n",
    "                            experiment_name=experiment_name)\n",
    "\n",
    "    job_name = f'{sm_trial.trial_name}'\n",
    "    return job_name        "
   ]
  },
  {
   "cell_type": "markdown",
   "id": "f51385d1",
   "metadata": {},
   "source": [
    "### Start training"
   ]
  },
  {
   "cell_type": "code",
   "execution_count": 13,
   "id": "3bc68699",
   "metadata": {},
   "outputs": [
    {
     "name": "stderr",
     "output_type": "stream",
     "text": [
      "INFO:sagemaker.image_uris:Defaulting to the only supported framework/algorithm version: latest.\n",
      "INFO:sagemaker.image_uris:Ignoring unnecessary instance type: None.\n",
      "INFO:sagemaker:Creating training-job with name: xgboost-poc-1-0917-09131663405985\n",
      "INFO:sagemaker.local.local_session:Starting training job\n",
      "INFO:sagemaker.local.image:No AWS credentials found in session but credentials from EC2 Metadata Service are available.\n",
      "INFO:sagemaker.local.image:docker compose file: \n",
      "networks:\n",
      "  sagemaker-local:\n",
      "    name: sagemaker-local\n",
      "services:\n",
      "  algo-1-f5ayf:\n",
      "    command: train\n",
      "    container_name: g152ulhlkr-algo-1-f5ayf\n",
      "    environment:\n",
      "    - '[Masked]'\n",
      "    - '[Masked]'\n",
      "    image: 366743142698.dkr.ecr.ap-northeast-2.amazonaws.com/sagemaker-xgboost:1.3-1\n",
      "    networks:\n",
      "      sagemaker-local:\n",
      "        aliases:\n",
      "        - algo-1-f5ayf\n",
      "    stdin_open: true\n",
      "    tty: true\n",
      "    volumes:\n",
      "    - /tmp/tmp8b9rt7vx/algo-1-f5ayf/input:/opt/ml/input\n",
      "    - /tmp/tmp8b9rt7vx/algo-1-f5ayf/output:/opt/ml/output\n",
      "    - /tmp/tmp8b9rt7vx/algo-1-f5ayf/output/data:/opt/ml/output/data\n",
      "    - /tmp/tmp8b9rt7vx/model:/opt/ml/model\n",
      "    - /opt/ml/metadata:/opt/ml/metadata\n",
      "    - /home/ec2-user/SageMaker/sg-workshop/data/dataset:/opt/ml/input/data/inputdata\n",
      "    - /home/ec2-user/SageMaker/sg-workshop/src:/opt/ml/code\n",
      "    - /tmp/tmp8b9rt7vx/shared:/opt/ml/shared\n",
      "version: '2.3'\n",
      "\n",
      "INFO:sagemaker.local.image:docker command: docker-compose -f /tmp/tmp8b9rt7vx/docker-compose.yaml up --build --abort-on-container-exit\n"
     ]
    },
    {
     "name": "stdout",
     "output_type": "stream",
     "text": [
      "Creating g152ulhlkr-algo-1-f5ayf ... \n",
      "Creating g152ulhlkr-algo-1-f5ayf ... done\n",
      "Attaching to g152ulhlkr-algo-1-f5ayf\n",
      "\u001b[36mg152ulhlkr-algo-1-f5ayf |\u001b[0m [2022-09-17 09:13:07.800 6c85a99661ca:1 INFO utils.py:27] RULE_JOB_STOP_SIGNAL_FILENAME: None\n",
      "\u001b[36mg152ulhlkr-algo-1-f5ayf |\u001b[0m [2022-09-17:09:13:07:INFO] Imported framework sagemaker_xgboost_container.training\n",
      "\u001b[36mg152ulhlkr-algo-1-f5ayf |\u001b[0m [2022-09-17:09:13:07:INFO] No GPUs detected (normal if no gpus installed)\n",
      "\u001b[36mg152ulhlkr-algo-1-f5ayf |\u001b[0m [2022-09-17:09:13:07:INFO] Invoking user training script.\n",
      "\u001b[36mg152ulhlkr-algo-1-f5ayf |\u001b[0m [2022-09-17:09:13:07:INFO] Installing module with the following command:\n",
      "\u001b[36mg152ulhlkr-algo-1-f5ayf |\u001b[0m /miniconda3/bin/python3 -m pip install . \n",
      "\u001b[36mg152ulhlkr-algo-1-f5ayf |\u001b[0m Processing /opt/ml/code\n",
      "\u001b[36mg152ulhlkr-algo-1-f5ayf |\u001b[0m   Preparing metadata (setup.py) ... \u001b[?25ldone\n",
      "\u001b[36mg152ulhlkr-algo-1-f5ayf |\u001b[0m \u001b[?25hBuilding wheels for collected packages: xgboost-starter-script\n",
      "\u001b[36mg152ulhlkr-algo-1-f5ayf |\u001b[0m   Building wheel for xgboost-starter-script (setup.py) ... \u001b[?25ldone\n",
      "\u001b[36mg152ulhlkr-algo-1-f5ayf |\u001b[0m \u001b[?25h  Created wheel for xgboost-starter-script: filename=xgboost_starter_script-1.0.0-py2.py3-none-any.whl size=18593 sha256=15c82eba0ed35047b981f0722b97cdad70d8a9df4105633dfea98b625a9f25e2\n",
      "\u001b[36mg152ulhlkr-algo-1-f5ayf |\u001b[0m   Stored in directory: /home/model-server/tmp/pip-ephem-wheel-cache-gdtw3tyn/wheels/3e/0f/51/2f1df833dd0412c1bc2f5ee56baac195b5be563353d111dca6\n",
      "\u001b[36mg152ulhlkr-algo-1-f5ayf |\u001b[0m Successfully built xgboost-starter-script\n",
      "\u001b[36mg152ulhlkr-algo-1-f5ayf |\u001b[0m Installing collected packages: xgboost-starter-script\n",
      "\u001b[36mg152ulhlkr-algo-1-f5ayf |\u001b[0m   Attempting uninstall: xgboost-starter-script\n",
      "\u001b[36mg152ulhlkr-algo-1-f5ayf |\u001b[0m     Found existing installation: xgboost-starter-script 1.0.0\n",
      "\u001b[36mg152ulhlkr-algo-1-f5ayf |\u001b[0m     Can't uninstall 'xgboost-starter-script'. No files were found to uninstall.\n",
      "\u001b[36mg152ulhlkr-algo-1-f5ayf |\u001b[0m Successfully installed xgboost-starter-script-1.0.0\n",
      "\u001b[36mg152ulhlkr-algo-1-f5ayf |\u001b[0m \u001b[33mWARNING: Running pip as the 'root' user can result in broken permissions and conflicting behaviour with the system package manager. It is recommended to use a virtual environment instead: https://pip.pypa.io/warnings/venv\u001b[0m\u001b[33m\n",
      "\u001b[36mg152ulhlkr-algo-1-f5ayf |\u001b[0m \u001b[0m[2022-09-17:09:13:09:INFO] No GPUs detected (normal if no gpus installed)\n",
      "\u001b[36mg152ulhlkr-algo-1-f5ayf |\u001b[0m [2022-09-17:09:13:09:INFO] Invoking user script\n",
      "\u001b[36mg152ulhlkr-algo-1-f5ayf |\u001b[0m \n",
      "\u001b[36mg152ulhlkr-algo-1-f5ayf |\u001b[0m Training Env:\n",
      "\u001b[36mg152ulhlkr-algo-1-f5ayf |\u001b[0m \n",
      "\u001b[36mg152ulhlkr-algo-1-f5ayf |\u001b[0m {\n",
      "\u001b[36mg152ulhlkr-algo-1-f5ayf |\u001b[0m     \"additional_framework_parameters\": {},\n",
      "\u001b[36mg152ulhlkr-algo-1-f5ayf |\u001b[0m     \"channel_input_dirs\": {\n",
      "\u001b[36mg152ulhlkr-algo-1-f5ayf |\u001b[0m         \"inputdata\": \"/opt/ml/input/data/inputdata\"\n",
      "\u001b[36mg152ulhlkr-algo-1-f5ayf |\u001b[0m     },\n",
      "\u001b[36mg152ulhlkr-algo-1-f5ayf |\u001b[0m     \"current_host\": \"algo-1-f5ayf\",\n",
      "\u001b[36mg152ulhlkr-algo-1-f5ayf |\u001b[0m     \"framework_module\": \"sagemaker_xgboost_container.training:main\",\n",
      "\u001b[36mg152ulhlkr-algo-1-f5ayf |\u001b[0m     \"hosts\": [\n",
      "\u001b[36mg152ulhlkr-algo-1-f5ayf |\u001b[0m         \"algo-1-f5ayf\"\n",
      "\u001b[36mg152ulhlkr-algo-1-f5ayf |\u001b[0m     ],\n",
      "\u001b[36mg152ulhlkr-algo-1-f5ayf |\u001b[0m     \"hyperparameters\": {\n",
      "\u001b[36mg152ulhlkr-algo-1-f5ayf |\u001b[0m         \"scale_pos_weight\": \"29\",\n",
      "\u001b[36mg152ulhlkr-algo-1-f5ayf |\u001b[0m         \"max_depth\": \"3\",\n",
      "\u001b[36mg152ulhlkr-algo-1-f5ayf |\u001b[0m         \"eta\": \"0.2\",\n",
      "\u001b[36mg152ulhlkr-algo-1-f5ayf |\u001b[0m         \"objective\": \"binary:logistic\",\n",
      "\u001b[36mg152ulhlkr-algo-1-f5ayf |\u001b[0m         \"num_round\": \"100\"\n",
      "\u001b[36mg152ulhlkr-algo-1-f5ayf |\u001b[0m     },\n",
      "\u001b[36mg152ulhlkr-algo-1-f5ayf |\u001b[0m     \"input_config_dir\": \"/opt/ml/input/config\",\n",
      "\u001b[36mg152ulhlkr-algo-1-f5ayf |\u001b[0m     \"input_data_config\": {\n",
      "\u001b[36mg152ulhlkr-algo-1-f5ayf |\u001b[0m         \"inputdata\": {\n",
      "\u001b[36mg152ulhlkr-algo-1-f5ayf |\u001b[0m             \"TrainingInputMode\": \"File\"\n",
      "\u001b[36mg152ulhlkr-algo-1-f5ayf |\u001b[0m         }\n",
      "\u001b[36mg152ulhlkr-algo-1-f5ayf |\u001b[0m     },\n",
      "\u001b[36mg152ulhlkr-algo-1-f5ayf |\u001b[0m     \"input_dir\": \"/opt/ml/input\",\n",
      "\u001b[36mg152ulhlkr-algo-1-f5ayf |\u001b[0m     \"is_master\": true,\n",
      "\u001b[36mg152ulhlkr-algo-1-f5ayf |\u001b[0m     \"job_name\": \"xgboost-poc-1-0917-09131663405985\",\n",
      "\u001b[36mg152ulhlkr-algo-1-f5ayf |\u001b[0m     \"log_level\": 20,\n",
      "\u001b[36mg152ulhlkr-algo-1-f5ayf |\u001b[0m     \"master_hostname\": \"algo-1-f5ayf\",\n",
      "\u001b[36mg152ulhlkr-algo-1-f5ayf |\u001b[0m     \"model_dir\": \"/opt/ml/model\",\n",
      "\u001b[36mg152ulhlkr-algo-1-f5ayf |\u001b[0m     \"module_dir\": \"/opt/ml/code\",\n",
      "\u001b[36mg152ulhlkr-algo-1-f5ayf |\u001b[0m     \"module_name\": \"xgboost_starter_script\",\n",
      "\u001b[36mg152ulhlkr-algo-1-f5ayf |\u001b[0m     \"network_interface_name\": \"eth0\",\n",
      "\u001b[36mg152ulhlkr-algo-1-f5ayf |\u001b[0m     \"num_cpus\": 16,\n",
      "\u001b[36mg152ulhlkr-algo-1-f5ayf |\u001b[0m     \"num_gpus\": 0,\n",
      "\u001b[36mg152ulhlkr-algo-1-f5ayf |\u001b[0m     \"output_data_dir\": \"/opt/ml/output/data\",\n",
      "\u001b[36mg152ulhlkr-algo-1-f5ayf |\u001b[0m     \"output_dir\": \"/opt/ml/output\",\n",
      "\u001b[36mg152ulhlkr-algo-1-f5ayf |\u001b[0m     \"output_intermediate_dir\": \"/opt/ml/output/intermediate\",\n",
      "\u001b[36mg152ulhlkr-algo-1-f5ayf |\u001b[0m     \"resource_config\": {\n",
      "\u001b[36mg152ulhlkr-algo-1-f5ayf |\u001b[0m         \"current_host\": \"algo-1-f5ayf\",\n",
      "\u001b[36mg152ulhlkr-algo-1-f5ayf |\u001b[0m         \"hosts\": [\n",
      "\u001b[36mg152ulhlkr-algo-1-f5ayf |\u001b[0m             \"algo-1-f5ayf\"\n",
      "\u001b[36mg152ulhlkr-algo-1-f5ayf |\u001b[0m         ]\n",
      "\u001b[36mg152ulhlkr-algo-1-f5ayf |\u001b[0m     },\n",
      "\u001b[36mg152ulhlkr-algo-1-f5ayf |\u001b[0m     \"user_entry_point\": \"xgboost_starter_script.py\"\n",
      "\u001b[36mg152ulhlkr-algo-1-f5ayf |\u001b[0m }\n",
      "\u001b[36mg152ulhlkr-algo-1-f5ayf |\u001b[0m \n",
      "\u001b[36mg152ulhlkr-algo-1-f5ayf |\u001b[0m Environment variables:\n",
      "\u001b[36mg152ulhlkr-algo-1-f5ayf |\u001b[0m \n",
      "\u001b[36mg152ulhlkr-algo-1-f5ayf |\u001b[0m SM_HOSTS=[\"algo-1-f5ayf\"]\n",
      "\u001b[36mg152ulhlkr-algo-1-f5ayf |\u001b[0m SM_NETWORK_INTERFACE_NAME=eth0\n",
      "\u001b[36mg152ulhlkr-algo-1-f5ayf |\u001b[0m SM_HPS={\"eta\":\"0.2\",\"max_depth\":\"3\",\"num_round\":\"100\",\"objective\":\"binary:logistic\",\"scale_pos_weight\":\"29\"}\n",
      "\u001b[36mg152ulhlkr-algo-1-f5ayf |\u001b[0m SM_USER_ENTRY_POINT=xgboost_starter_script.py\n",
      "\u001b[36mg152ulhlkr-algo-1-f5ayf |\u001b[0m SM_FRAMEWORK_PARAMS={}\n",
      "\u001b[36mg152ulhlkr-algo-1-f5ayf |\u001b[0m SM_RESOURCE_CONFIG={\"current_host\":\"algo-1-f5ayf\",\"hosts\":[\"algo-1-f5ayf\"]}\n",
      "\u001b[36mg152ulhlkr-algo-1-f5ayf |\u001b[0m SM_INPUT_DATA_CONFIG={\"inputdata\":{\"TrainingInputMode\":\"File\"}}\n",
      "\u001b[36mg152ulhlkr-algo-1-f5ayf |\u001b[0m SM_OUTPUT_DATA_DIR=/opt/ml/output/data\n",
      "\u001b[36mg152ulhlkr-algo-1-f5ayf |\u001b[0m SM_CHANNELS=[\"inputdata\"]\n",
      "\u001b[36mg152ulhlkr-algo-1-f5ayf |\u001b[0m SM_CURRENT_HOST=algo-1-f5ayf\n",
      "\u001b[36mg152ulhlkr-algo-1-f5ayf |\u001b[0m SM_MODULE_NAME=xgboost_starter_script\n",
      "\u001b[36mg152ulhlkr-algo-1-f5ayf |\u001b[0m SM_LOG_LEVEL=20\n",
      "\u001b[36mg152ulhlkr-algo-1-f5ayf |\u001b[0m SM_FRAMEWORK_MODULE=sagemaker_xgboost_container.training:main\n",
      "\u001b[36mg152ulhlkr-algo-1-f5ayf |\u001b[0m SM_INPUT_DIR=/opt/ml/input\n",
      "\u001b[36mg152ulhlkr-algo-1-f5ayf |\u001b[0m SM_INPUT_CONFIG_DIR=/opt/ml/input/config\n",
      "\u001b[36mg152ulhlkr-algo-1-f5ayf |\u001b[0m SM_OUTPUT_DIR=/opt/ml/output\n",
      "\u001b[36mg152ulhlkr-algo-1-f5ayf |\u001b[0m SM_NUM_CPUS=16\n",
      "\u001b[36mg152ulhlkr-algo-1-f5ayf |\u001b[0m SM_NUM_GPUS=0\n",
      "\u001b[36mg152ulhlkr-algo-1-f5ayf |\u001b[0m SM_MODEL_DIR=/opt/ml/model\n",
      "\u001b[36mg152ulhlkr-algo-1-f5ayf |\u001b[0m SM_MODULE_DIR=/opt/ml/code\n",
      "\u001b[36mg152ulhlkr-algo-1-f5ayf |\u001b[0m SM_TRAINING_ENV={\"additional_framework_parameters\":{},\"channel_input_dirs\":{\"inputdata\":\"/opt/ml/input/data/inputdata\"},\"current_host\":\"algo-1-f5ayf\",\"framework_module\":\"sagemaker_xgboost_container.training:main\",\"hosts\":[\"algo-1-f5ayf\"],\"hyperparameters\":{\"eta\":\"0.2\",\"max_depth\":\"3\",\"num_round\":\"100\",\"objective\":\"binary:logistic\",\"scale_pos_weight\":\"29\"},\"input_config_dir\":\"/opt/ml/input/config\",\"input_data_config\":{\"inputdata\":{\"TrainingInputMode\":\"File\"}},\"input_dir\":\"/opt/ml/input\",\"is_master\":true,\"job_name\":\"xgboost-poc-1-0917-09131663405985\",\"log_level\":20,\"master_hostname\":\"algo-1-f5ayf\",\"model_dir\":\"/opt/ml/model\",\"module_dir\":\"/opt/ml/code\",\"module_name\":\"xgboost_starter_script\",\"network_interface_name\":\"eth0\",\"num_cpus\":16,\"num_gpus\":0,\"output_data_dir\":\"/opt/ml/output/data\",\"output_dir\":\"/opt/ml/output\",\"output_intermediate_dir\":\"/opt/ml/output/intermediate\",\"resource_config\":{\"current_host\":\"algo-1-f5ayf\",\"hosts\":[\"algo-1-f5ayf\"]},\"user_entry_point\":\"xgboost_starter_script.py\"}\n",
      "\u001b[36mg152ulhlkr-algo-1-f5ayf |\u001b[0m SM_USER_ARGS=[\"--eta\",\"0.2\",\"--max_depth\",\"3\",\"--num_round\",\"100\",\"--objective\",\"binary:logistic\",\"--scale_pos_weight\",\"29\"]\n",
      "\u001b[36mg152ulhlkr-algo-1-f5ayf |\u001b[0m SM_OUTPUT_INTERMEDIATE_DIR=/opt/ml/output/intermediate\n",
      "\u001b[36mg152ulhlkr-algo-1-f5ayf |\u001b[0m SM_CHANNEL_INPUTDATA=/opt/ml/input/data/inputdata\n",
      "\u001b[36mg152ulhlkr-algo-1-f5ayf |\u001b[0m SM_HP_SCALE_POS_WEIGHT=29\n",
      "\u001b[36mg152ulhlkr-algo-1-f5ayf |\u001b[0m SM_HP_MAX_DEPTH=3\n",
      "\u001b[36mg152ulhlkr-algo-1-f5ayf |\u001b[0m SM_HP_ETA=0.2\n",
      "\u001b[36mg152ulhlkr-algo-1-f5ayf |\u001b[0m SM_HP_OBJECTIVE=binary:logistic\n",
      "\u001b[36mg152ulhlkr-algo-1-f5ayf |\u001b[0m SM_HP_NUM_ROUND=100\n",
      "\u001b[36mg152ulhlkr-algo-1-f5ayf |\u001b[0m PYTHONPATH=/miniconda3/bin:/:/miniconda3/lib/python/site-packages/xgboost/dmlc-core/tracker:/miniconda3/lib/python37.zip:/miniconda3/lib/python3.7:/miniconda3/lib/python3.7/lib-dynload:/miniconda3/lib/python3.7/site-packages\n",
      "\u001b[36mg152ulhlkr-algo-1-f5ayf |\u001b[0m \n",
      "\u001b[36mg152ulhlkr-algo-1-f5ayf |\u001b[0m Invoking script with the following command:\n",
      "\u001b[36mg152ulhlkr-algo-1-f5ayf |\u001b[0m \n",
      "\u001b[36mg152ulhlkr-algo-1-f5ayf |\u001b[0m /miniconda3/bin/python3 -m xgboost_starter_script --eta 0.2 --max_depth 3 --num_round 100 --objective binary:logistic --scale_pos_weight 29\n",
      "\u001b[36mg152ulhlkr-algo-1-f5ayf |\u001b[0m \n",
      "\u001b[36mg152ulhlkr-algo-1-f5ayf |\u001b[0m \n",
      "\u001b[36mg152ulhlkr-algo-1-f5ayf |\u001b[0m cv_results:      train-auc-mean  train-auc-std  test-auc-mean  test-auc-std\n",
      "\u001b[36mg152ulhlkr-algo-1-f5ayf |\u001b[0m 0         0.819224       0.005816       0.769926      0.047341\n",
      "\u001b[36mg152ulhlkr-algo-1-f5ayf |\u001b[0m 1         0.842821       0.012217       0.806518      0.021315\n",
      "\u001b[36mg152ulhlkr-algo-1-f5ayf |\u001b[0m 2         0.854213       0.005705       0.806512      0.021542\n",
      "\u001b[36mg152ulhlkr-algo-1-f5ayf |\u001b[0m 3         0.861384       0.008274       0.812600      0.030358\n",
      "\u001b[36mg152ulhlkr-algo-1-f5ayf |\u001b[0m 4         0.873625       0.009501       0.814151      0.032305\n",
      "\u001b[36mg152ulhlkr-algo-1-f5ayf |\u001b[0m 5         0.881067       0.009787       0.813072      0.027425\n",
      "\u001b[36mg152ulhlkr-algo-1-f5ayf |\u001b[0m 6         0.886745       0.009047       0.810738      0.025871\n",
      "\u001b[36mg152ulhlkr-algo-1-f5ayf |\u001b[0m 7         0.895144       0.009728       0.816828      0.023247\n",
      "\u001b[36mg152ulhlkr-algo-1-f5ayf |\u001b[0m 8         0.898417       0.008864       0.817527      0.025424\n",
      "\u001b[36mg152ulhlkr-algo-1-f5ayf |\u001b[0m 9         0.903438       0.010093       0.818247      0.024297\n",
      "\u001b[36mg152ulhlkr-algo-1-f5ayf |\u001b[0m 10        0.909567       0.013376       0.818719      0.021123\n",
      "\u001b[36mg152ulhlkr-algo-1-f5ayf |\u001b[0m 11        0.913054       0.013701       0.817377      0.019645\n",
      "\u001b[36mg152ulhlkr-algo-1-f5ayf |\u001b[0m 12        0.918236       0.012743       0.820624      0.020702\n",
      "\u001b[36mg152ulhlkr-algo-1-f5ayf |\u001b[0m 13        0.921825       0.012667       0.820398      0.020053\n",
      "\u001b[36mg152ulhlkr-algo-1-f5ayf |\u001b[0m 14        0.926449       0.009542       0.818657      0.017779\n",
      "\u001b[36mg152ulhlkr-algo-1-f5ayf |\u001b[0m 15        0.930879       0.009050       0.821708      0.018292\n",
      "\u001b[36mg152ulhlkr-algo-1-f5ayf |\u001b[0m 16        0.935445       0.010258       0.821715      0.020194\n",
      "\u001b[36mg152ulhlkr-algo-1-f5ayf |\u001b[0m 17        0.940519       0.006538       0.821841      0.020128\n",
      "\u001b[36mg152ulhlkr-algo-1-f5ayf |\u001b[0m [0]#011train-auc:0.9405190000000001\n",
      "\u001b[36mg152ulhlkr-algo-1-f5ayf |\u001b[0m [1]#011validation-auc:0.8218406\n",
      "\u001b[36mg152ulhlkr-algo-1-f5ayf |\u001b[0m [09:13:12] WARNING: ../src/learner.cc:1061: Starting in XGBoost 1.3.0, the default evaluation metric used with the objective 'binary:logistic' was changed from 'error' to 'logloss'. Explicitly set eval_metric if you'd like to restore the old behavior.\n",
      "\u001b[36mg152ulhlkr-algo-1-f5ayf exited with code 0\n",
      "\u001b[0mAborting on container exit...\n"
     ]
    },
    {
     "name": "stderr",
     "output_type": "stream",
     "text": [
      "WARNING:sagemaker.local.image:Failed to delete: /tmp/tmp8b9rt7vx/algo-1-f5ayf Please remove it manually.\n"
     ]
    },
    {
     "name": "stdout",
     "output_type": "stream",
     "text": [
      "===== Job Complete =====\n"
     ]
    }
   ],
   "source": [
    "experiment_name='xgboost-poc-1'\n",
    "\n",
    "create_experiment(experiment_name)\n",
    "job_name = create_trial(experiment_name)\n",
    "\n",
    "estimator.fit(inputs = {'inputdata': inputs},\n",
    "                  job_name = job_name,\n",
    "                  experiment_config={\n",
    "                      'TrialName': job_name,\n",
    "                      'TrialComponentDisplayName': job_name,\n",
    "                  },\n",
    "                  wait=False)\n",
    "\n",
    "#estimator.fit(inputs = {'inputdata': inputs},\n",
    "#                  wait=False)"
   ]
  },
  {
   "cell_type": "code",
   "execution_count": 14,
   "id": "2a8776ee",
   "metadata": {},
   "outputs": [],
   "source": [
    "estimator.logs()"
   ]
  },
  {
   "cell_type": "markdown",
   "id": "44e5c1b5",
   "metadata": {},
   "source": [
    "### Use in SageMaker Studio"
   ]
  },
  {
   "cell_type": "code",
   "execution_count": 18,
   "id": "dc523ca9",
   "metadata": {},
   "outputs": [],
   "source": [
    "from sagemaker.analytics import ExperimentAnalytics\n",
    "import pandas as pd\n",
    "pd.options.display.max_columns = 50\n",
    "pd.options.display.max_rows = 10\n",
    "pd.options.display.max_colwidth = 100"
   ]
  },
  {
   "cell_type": "code",
   "execution_count": 19,
   "id": "060dcfca",
   "metadata": {},
   "outputs": [
    {
     "ename": "AttributeError",
     "evalue": "'LocalSagemakerClient' object has no attribute 'search'",
     "output_type": "error",
     "traceback": [
      "\u001b[0;31m---------------------------------------------------------------------------\u001b[0m",
      "\u001b[0;31mAttributeError\u001b[0m                            Traceback (most recent call last)",
      "\u001b[0;32m/tmp/ipykernel_6749/2430455129.py\u001b[0m in \u001b[0;36m<cell line: 9>\u001b[0;34m()\u001b[0m\n\u001b[1;32m      7\u001b[0m )\n\u001b[1;32m      8\u001b[0m \u001b[0;34m\u001b[0m\u001b[0m\n\u001b[0;32m----> 9\u001b[0;31m trial_component_training_analytics.dataframe()[['Experiments', 'Trials', 'validation:auc - Min', 'validation:auc - Max',\n\u001b[0m\u001b[1;32m     10\u001b[0m                                                 \u001b[0;34m'validation:auc - Avg'\u001b[0m\u001b[0;34m,\u001b[0m \u001b[0;34m'validation:auc - StdDev'\u001b[0m\u001b[0;34m,\u001b[0m \u001b[0;34m'validation:auc - Last'\u001b[0m\u001b[0;34m,\u001b[0m\u001b[0;34m\u001b[0m\u001b[0;34m\u001b[0m\u001b[0m\n\u001b[1;32m     11\u001b[0m                                                 'eta', 'max_depth', 'num_round', 'scale_pos_weight']]\n",
      "\u001b[0;32m~/anaconda3/envs/pytorch_p38/lib/python3.8/site-packages/sagemaker/analytics.py\u001b[0m in \u001b[0;36mdataframe\u001b[0;34m(self, force_refresh)\u001b[0m\n\u001b[1;32m     68\u001b[0m             \u001b[0mself\u001b[0m\u001b[0;34m.\u001b[0m\u001b[0mclear_cache\u001b[0m\u001b[0;34m(\u001b[0m\u001b[0;34m)\u001b[0m\u001b[0;34m\u001b[0m\u001b[0;34m\u001b[0m\u001b[0m\n\u001b[1;32m     69\u001b[0m         \u001b[0;32mif\u001b[0m \u001b[0mself\u001b[0m\u001b[0;34m.\u001b[0m\u001b[0m_dataframe\u001b[0m \u001b[0;32mis\u001b[0m \u001b[0;32mNone\u001b[0m\u001b[0;34m:\u001b[0m\u001b[0;34m\u001b[0m\u001b[0;34m\u001b[0m\u001b[0m\n\u001b[0;32m---> 70\u001b[0;31m             \u001b[0mself\u001b[0m\u001b[0;34m.\u001b[0m\u001b[0m_dataframe\u001b[0m \u001b[0;34m=\u001b[0m \u001b[0mself\u001b[0m\u001b[0;34m.\u001b[0m\u001b[0m_fetch_dataframe\u001b[0m\u001b[0;34m(\u001b[0m\u001b[0;34m)\u001b[0m\u001b[0;34m\u001b[0m\u001b[0;34m\u001b[0m\u001b[0m\n\u001b[0m\u001b[1;32m     71\u001b[0m         \u001b[0;32mreturn\u001b[0m \u001b[0mself\u001b[0m\u001b[0;34m.\u001b[0m\u001b[0m_dataframe\u001b[0m\u001b[0;34m\u001b[0m\u001b[0;34m\u001b[0m\u001b[0m\n\u001b[1;32m     72\u001b[0m \u001b[0;34m\u001b[0m\u001b[0m\n",
      "\u001b[0;32m~/anaconda3/envs/pytorch_p38/lib/python3.8/site-packages/sagemaker/analytics.py\u001b[0m in \u001b[0;36m_fetch_dataframe\u001b[0;34m(self)\u001b[0m\n\u001b[1;32m    675\u001b[0m         \u001b[0;34m\"\"\"Return a pandas dataframe includes all the trial_components.\"\"\"\u001b[0m\u001b[0;34m\u001b[0m\u001b[0;34m\u001b[0m\u001b[0m\n\u001b[1;32m    676\u001b[0m \u001b[0;34m\u001b[0m\u001b[0m\n\u001b[0;32m--> 677\u001b[0;31m         \u001b[0mdf\u001b[0m \u001b[0;34m=\u001b[0m \u001b[0mpd\u001b[0m\u001b[0;34m.\u001b[0m\u001b[0mDataFrame\u001b[0m\u001b[0;34m(\u001b[0m\u001b[0;34m[\u001b[0m\u001b[0mself\u001b[0m\u001b[0;34m.\u001b[0m\u001b[0m_reshape\u001b[0m\u001b[0;34m(\u001b[0m\u001b[0mcomponent\u001b[0m\u001b[0;34m)\u001b[0m \u001b[0;32mfor\u001b[0m \u001b[0mcomponent\u001b[0m \u001b[0;32min\u001b[0m \u001b[0mself\u001b[0m\u001b[0;34m.\u001b[0m\u001b[0m_get_trial_components\u001b[0m\u001b[0;34m(\u001b[0m\u001b[0;34m)\u001b[0m\u001b[0;34m]\u001b[0m\u001b[0;34m)\u001b[0m\u001b[0;34m\u001b[0m\u001b[0;34m\u001b[0m\u001b[0m\n\u001b[0m\u001b[1;32m    678\u001b[0m         \u001b[0;32mreturn\u001b[0m \u001b[0mdf\u001b[0m\u001b[0;34m\u001b[0m\u001b[0;34m\u001b[0m\u001b[0m\n\u001b[1;32m    679\u001b[0m \u001b[0;34m\u001b[0m\u001b[0m\n",
      "\u001b[0;32m~/anaconda3/envs/pytorch_p38/lib/python3.8/site-packages/sagemaker/analytics.py\u001b[0m in \u001b[0;36m_get_trial_components\u001b[0;34m(self, force_refresh)\u001b[0m\n\u001b[1;32m    707\u001b[0m             )\n\u001b[1;32m    708\u001b[0m \u001b[0;34m\u001b[0m\u001b[0m\n\u001b[0;32m--> 709\u001b[0;31m         \u001b[0;32mreturn\u001b[0m \u001b[0mself\u001b[0m\u001b[0;34m.\u001b[0m\u001b[0m_search\u001b[0m\u001b[0;34m(\u001b[0m\u001b[0mself\u001b[0m\u001b[0;34m.\u001b[0m\u001b[0m_search_expression\u001b[0m\u001b[0;34m,\u001b[0m \u001b[0mself\u001b[0m\u001b[0;34m.\u001b[0m\u001b[0m_sort_by\u001b[0m\u001b[0;34m,\u001b[0m \u001b[0mself\u001b[0m\u001b[0;34m.\u001b[0m\u001b[0m_sort_order\u001b[0m\u001b[0;34m)\u001b[0m\u001b[0;34m\u001b[0m\u001b[0;34m\u001b[0m\u001b[0m\n\u001b[0m\u001b[1;32m    710\u001b[0m \u001b[0;34m\u001b[0m\u001b[0m\n\u001b[1;32m    711\u001b[0m     \u001b[0;32mdef\u001b[0m \u001b[0m_search\u001b[0m\u001b[0;34m(\u001b[0m\u001b[0mself\u001b[0m\u001b[0;34m,\u001b[0m \u001b[0msearch_expression\u001b[0m\u001b[0;34m,\u001b[0m \u001b[0msort_by\u001b[0m\u001b[0;34m,\u001b[0m \u001b[0msort_order\u001b[0m\u001b[0;34m)\u001b[0m\u001b[0;34m:\u001b[0m\u001b[0;34m\u001b[0m\u001b[0;34m\u001b[0m\u001b[0m\n",
      "\u001b[0;32m~/anaconda3/envs/pytorch_p38/lib/python3.8/site-packages/sagemaker/analytics.py\u001b[0m in \u001b[0;36m_search\u001b[0;34m(self, search_expression, sort_by, sort_order)\u001b[0m\n\u001b[1;32m    734\u001b[0m \u001b[0;34m\u001b[0m\u001b[0m\n\u001b[1;32m    735\u001b[0m         \u001b[0;32mwhile\u001b[0m \u001b[0mlen\u001b[0m\u001b[0;34m(\u001b[0m\u001b[0mtrial_components\u001b[0m\u001b[0;34m)\u001b[0m \u001b[0;34m<\u001b[0m \u001b[0mself\u001b[0m\u001b[0;34m.\u001b[0m\u001b[0mMAX_TRIAL_COMPONENTS\u001b[0m\u001b[0;34m:\u001b[0m\u001b[0;34m\u001b[0m\u001b[0;34m\u001b[0m\u001b[0m\n\u001b[0;32m--> 736\u001b[0;31m             \u001b[0msearch_response\u001b[0m \u001b[0;34m=\u001b[0m \u001b[0mself\u001b[0m\u001b[0;34m.\u001b[0m\u001b[0m_sage_client\u001b[0m\u001b[0;34m.\u001b[0m\u001b[0msearch\u001b[0m\u001b[0;34m(\u001b[0m\u001b[0;34m**\u001b[0m\u001b[0msearch_args\u001b[0m\u001b[0;34m)\u001b[0m\u001b[0;34m\u001b[0m\u001b[0;34m\u001b[0m\u001b[0m\n\u001b[0m\u001b[1;32m    737\u001b[0m             \u001b[0mcomponents\u001b[0m \u001b[0;34m=\u001b[0m \u001b[0;34m[\u001b[0m\u001b[0mresult\u001b[0m\u001b[0;34m[\u001b[0m\u001b[0;34m\"TrialComponent\"\u001b[0m\u001b[0;34m]\u001b[0m \u001b[0;32mfor\u001b[0m \u001b[0mresult\u001b[0m \u001b[0;32min\u001b[0m \u001b[0msearch_response\u001b[0m\u001b[0;34m[\u001b[0m\u001b[0;34m\"Results\"\u001b[0m\u001b[0;34m]\u001b[0m\u001b[0;34m]\u001b[0m\u001b[0;34m\u001b[0m\u001b[0;34m\u001b[0m\u001b[0m\n\u001b[1;32m    738\u001b[0m             \u001b[0mtrial_components\u001b[0m\u001b[0;34m.\u001b[0m\u001b[0mextend\u001b[0m\u001b[0;34m(\u001b[0m\u001b[0mcomponents\u001b[0m\u001b[0;34m)\u001b[0m\u001b[0;34m\u001b[0m\u001b[0;34m\u001b[0m\u001b[0m\n",
      "\u001b[0;31mAttributeError\u001b[0m: 'LocalSagemakerClient' object has no attribute 'search'"
     ]
    }
   ],
   "source": [
    "trial_component_training_analytics = ExperimentAnalytics(\n",
    "    sagemaker_session= sagemaker_session,\n",
    "    experiment_name= experiment_name,\n",
    "    sort_by=\"metrics.validation:auc.max\",        \n",
    "    sort_order=\"Descending\",\n",
    "    metric_names=[\"validation:auc\"]\n",
    ")\n",
    "\n",
    "trial_component_training_analytics.dataframe()[['Experiments', 'Trials', 'validation:auc - Min', 'validation:auc - Max',\n",
    "                                                'validation:auc - Avg', 'validation:auc - StdDev', 'validation:auc - Last', \n",
    "                                                'eta', 'max_depth', 'num_round', 'scale_pos_weight']]"
   ]
  },
  {
   "cell_type": "code",
   "execution_count": null,
   "id": "f0f33f98",
   "metadata": {},
   "outputs": [],
   "source": []
  }
 ],
 "metadata": {
  "kernelspec": {
   "display_name": "conda_pytorch_p38",
   "language": "python",
   "name": "conda_pytorch_p38"
  },
  "language_info": {
   "codemirror_mode": {
    "name": "ipython",
    "version": 3
   },
   "file_extension": ".py",
   "mimetype": "text/x-python",
   "name": "python",
   "nbconvert_exporter": "python",
   "pygments_lexer": "ipython3",
   "version": "3.8.12"
  }
 },
 "nbformat": 4,
 "nbformat_minor": 5
}
